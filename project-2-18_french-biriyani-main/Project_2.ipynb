{
 "cells": [
  {
   "cell_type": "markdown",
   "metadata": {},
   "source": [
    "# Project 2\n",
    "\n",
    "## Topic : Stereo reconstruction and Non-linear optimization\n",
    "\n",
    "#### Instructions\n",
    "<ul>\n",
    "    <li> The second project of the course is designed to get you familiar with stereo reconstruction, and non-linear optimization </li>\n",
    "    <li> Use python for this project. PILLOW and OpenCV are permitted for image I/O. </li>\n",
    "    <li> Submit this notebook as a zipped file on moodle. The format should be $<$team_id$>$_$<$team_ name$>$.zip. Both members have to submit this zip file. </li>\n",
    "    <li> A seperate report is not needed if you're coding in the notebook itself. Please provide adequate descriptions of the approaches you've taken. Also mention work distribution for the two members. </li>\n",
    "    <li> Refer to the late day policy. Start early </li> \n",
    "    <li> Download data from here: https://iiitaphyd-my.sharepoint.com/:f:/g/personal/aryan_sakaria_students_iiit_ac_in/Er5C7351IAlFsvwHUesFeSQBQtlSiAS7AORSEJT2qH_8_w?e=ol98k9  </li>\n",
    "</ul>"
   ]
  },
  {
   "cell_type": "markdown",
   "metadata": {},
   "source": [
    "----\n",
    "### PART 1: Stereo dense reconstruction\n",
    "\n",
    "3-D point clouds are very useful in robotics for several tasks such as object detection, motion estimation (3D-3D matching or 3D-2D matching), SLAM, and other forms of scene understanding.  Stereo camerasprovide  us  with  a  convenient  way  to  generate  dense  point  clouds.Densehere,  in  contrast  tosparse,means all the image points are used for the reconstruction.  In this part of the assignment you will begenerating a dense 3D point cloud reconstruction of a scene from stereo images.\n",
    "\n",
    "#### Procedure: \n",
    "\n",
    "<ol>\n",
    "    <li> Generate a disparity map for each stereo pair.  Use OpenCV (e.g.  StereoSGBM) for this.  Notethat the images provided are already rectified and undistorted. </li>\n",
    "    <li> Then, using the camera parameters and baseline information generate colored point clouds fromeach disparity map.  Some points will have invalid disparity values, so ignore them.  Use [Open3D]for storing your point clouds. </li>\n",
    "    <li> Register (or transform) all the generated point clouds into your world frame by using the providedground truth poses. </li>\n",
    "    <li> Visualize the registered point cloud data, in color.  Use Open3D for this </li>\n",
    "</ol>\n",
    "    "
   ]
  },
  {
   "cell_type": "code",
   "execution_count": 8,
   "metadata": {},
   "outputs": [],
   "source": [
    "#import libraries:\n",
    "import numpy as np \n",
    "# from sklearn.preprocessing import normalize #normalizing gives better results. Experiment with this\n",
    "import cv2\n",
    "from matplotlib import pyplot as plt\n",
    "import open3d as o3d"
   ]
  },
  {
   "cell_type": "code",
   "execution_count": 9,
   "metadata": {},
   "outputs": [],
   "source": [
    "def read_transformations(filename):\n",
    "    f = open(filename, 'r')\n",
    "    pose_data = np.loadtxt(f)\n",
    "    transformation_list = pose_data.reshape(len(pose_data),3,4)\n",
    "    return transformation_list"
   ]
  },
  {
   "cell_type": "markdown",
   "metadata": {},
   "source": [
    "Provide explanation in this cell: \n"
   ]
  },
  {
   "cell_type": "code",
   "execution_count": 10,
   "metadata": {},
   "outputs": [],
   "source": [
    "def project_points_to_world(points,pose):\n",
    "    points = (pose @ points.T).T\n",
    "    return points\n",
    "\n",
    "def getParallaxMap(disparity):\n",
    "    h,w = disparity.shape\n",
    "    disparity_map = []\n",
    "    for i in range(h):\n",
    "        for j in range(w):\n",
    "            disparity_map.append([j,i,disparity[i,j],1])\n",
    "    return np.array(disparity_map)\n",
    "\n",
    "def reprojectImageTo3d(disparity_map,Q):\n",
    "    points = []\n",
    "    for dis in disparity_map:\n",
    "        point = Q @ dis\n",
    "        points.append(point)\n",
    "    return np.array(points)"
   ]
  },
  {
   "cell_type": "code",
   "execution_count": 11,
   "metadata": {},
   "outputs": [],
   "source": [
    "ground_truth_file = 'poses.txt'\n",
    "poses = read_transformations(ground_truth_file)\n",
    "K = np.array([[7.070912e+02, 0.000000e+00, 6.018873e+02],\n",
    "              [0.000000e+00, 7.070912e+02, 1.831104e+02],\n",
    "              [0.000000e+00, 0.000000e+00, 1.000000e+00]])\n",
    "f = K[0,0]\n",
    "b = 0.53790448812"
   ]
  },
  {
   "cell_type": "code",
   "execution_count": 12,
   "metadata": {},
   "outputs": [
    {
     "name": "stdout",
     "output_type": "stream",
     "text": [
      "Comparing:  ./img2/0000000460.png ./img3/0000000460.png\n",
      "Comparing:  ./img2/0000000461.png ./img3/0000000461.png\n",
      "Comparing:  ./img2/0000000462.png ./img3/0000000462.png\n",
      "Comparing:  ./img2/0000000463.png ./img3/0000000463.png\n",
      "Comparing:  ./img2/0000000464.png ./img3/0000000464.png\n",
      "Comparing:  ./img2/0000000465.png ./img3/0000000465.png\n",
      "Comparing:  ./img2/0000000466.png ./img3/0000000466.png\n",
      "Comparing:  ./img2/0000000467.png ./img3/0000000467.png\n",
      "Comparing:  ./img2/0000000468.png ./img3/0000000468.png\n",
      "Comparing:  ./img2/0000000469.png ./img3/0000000469.png\n",
      "Comparing:  ./img2/0000000470.png ./img3/0000000470.png\n",
      "Comparing:  ./img2/0000000471.png ./img3/0000000471.png\n",
      "Comparing:  ./img2/0000000472.png ./img3/0000000472.png\n",
      "Comparing:  ./img2/0000000473.png ./img3/0000000473.png\n",
      "Comparing:  ./img2/0000000474.png ./img3/0000000474.png\n",
      "Comparing:  ./img2/0000000475.png ./img3/0000000475.png\n",
      "Comparing:  ./img2/0000000476.png ./img3/0000000476.png\n",
      "Comparing:  ./img2/0000000477.png ./img3/0000000477.png\n",
      "Comparing:  ./img2/0000000478.png ./img3/0000000478.png\n",
      "Comparing:  ./img2/0000000479.png ./img3/0000000479.png\n",
      "Comparing:  ./img2/0000000480.png ./img3/0000000480.png\n"
     ]
    },
    {
     "data": {
      "text/plain": [
       "True"
      ]
     },
     "execution_count": 12,
     "metadata": {},
     "output_type": "execute_result"
    }
   ],
   "source": [
    "pcd = o3d.geometry.PointCloud()\n",
    "combined_pcd = o3d.geometry.PointCloud()\n",
    "\n",
    "def find_disparity(imageL,imageR):\n",
    "    window_size = 5\n",
    "    min_disp = -39\n",
    "    num_disp = 144\n",
    "    stereo = cv2.StereoSGBM_create(minDisparity = min_disp,\n",
    "        numDisparities = num_disp,\n",
    "        disp12MaxDiff = 1,\n",
    "        blockSize=5,\n",
    "        P1= 8*3* window_size**2,\n",
    "        P2= 32*3*window_size**2,\n",
    "        uniquenessRatio = 10,\n",
    "        speckleWindowSize = 100,\n",
    "        speckleRange = 32,\n",
    "        preFilterCap= 63\n",
    "        )\n",
    "    disparity = stereo.compute(imageL, imageR).astype(np.float32)/64.0\n",
    "    disparity = (disparity-min_disp)/num_disp\n",
    "    return disparity\n",
    "\n",
    "for i in range(21):\n",
    "    img_loc = \"/0000000\"+str(460+i)+\".png\"\n",
    "    l_img = \"./img2\"+img_loc\n",
    "    r_img = \"./img3\"+img_loc\n",
    "    print (\"Comparing: \",l_img,r_img)\n",
    "    imgL = cv2.imread(l_img)\n",
    "    imgR = cv2.imread(r_img)\n",
    "    disparity = find_disparity(imgL,imgR)\n",
    "    h,w = disparity.shape\n",
    "    Q = np.array([[ 1,  0,  0, -w/2],\n",
    "                  [ 0,  -1,  0, h/2],\n",
    "                  [ 0,  0,  0, f],\n",
    "                  [ 0,  0,  1/b, 0]])\n",
    "    disparity_map = getParallaxMap(disparity)\n",
    "    point_cloud = reprojectImageTo3d(disparity_map,Q)\n",
    "    colors = cv2.cvtColor(imgL, cv2.COLOR_BGR2RGB)\n",
    "    mask = (disparity >= disparity.min())\n",
    "    colors = colors[mask]\n",
    "    colors = colors/255\n",
    "    cloud_colors = np.array(colors);\n",
    "    point_cloud[:,0] = point_cloud[:,0]/point_cloud[:,3]\n",
    "    point_cloud[:,1] = point_cloud[:,1]/point_cloud[:,3] \n",
    "    point_cloud[:,2] = point_cloud[:,2]/point_cloud[:,3]\n",
    "    point_cloud[:,3] = point_cloud[:,3]/point_cloud[:,3]\n",
    "    point_cloud = project_points_to_world(point_cloud,poses[i]);\n",
    "    mask = ((-1500 <= point_cloud[:,1]) & (point_cloud[:,1] < 1500) &\n",
    "        (-1500 <= point_cloud[:,2]) & (point_cloud[:,2] < 1500) &\n",
    "        (-1500 <= point_cloud[:,0]) & (point_cloud[:,0] < 1500))\n",
    "\n",
    "    point_cloud = point_cloud[mask]\n",
    "    cloud_colors = cloud_colors[mask]\n",
    "    point_cloud[:,0] *= -1\n",
    "    pcd.points = o3d.utility.Vector3dVector(point_cloud)\n",
    "    pcd.colors = o3d.utility.Vector3dVector(cloud_colors)\n",
    "    combined_pcd = combined_pcd + pcd\n",
    "    \n",
    "    \n",
    "o3d.io.write_point_cloud(\"colored_op.pcd\", combined_pcd)"
   ]
  },
  {
   "cell_type": "code",
   "execution_count": 13,
   "metadata": {},
   "outputs": [],
   "source": [
    "output = o3d.io.read_point_cloud(\"colored_op.pcd\")"
   ]
  },
  {
   "cell_type": "code",
   "execution_count": 14,
   "metadata": {},
   "outputs": [],
   "source": [
    "o3d.visualization.draw_geometries([output])"
   ]
  },
  {
   "cell_type": "markdown",
   "metadata": {},
   "source": [
    "----\n",
    "### PART 2: Motion estimation using iterative PnP\n",
    "\n",
    "Using the generated reconstruction from the previous part, synthesize a new image taken by a virtualmonocular camera fixed at any arbitrary position and orientation.  Your task in this part is to recover this pose using an iterative Perspective-from-n-Points (PnP) algorithm. \n",
    "\n",
    "#### Procedure: \n",
    "\n",
    "<ol>\n",
    "    <li> Obtain a set of 2D-3D correspondences between the the image and the point cloud.  Since hereyou’re generating the image, this should be easy to obtain. </li>\n",
    "    <li> For this set of correspondences compute the total reprojection error c= $\\sum_{i} ‖x_i−P_{k}X_i‖^2 $    where $P_{k}= K[R_{k}|t_{k}]$, $X_{i}$ is the 3D point in the world frame, $x_{i}$ is its corresponding projection. </li>\n",
    "    <li> Solve for the pose $T_{k}$ that minimizes this non-linear reprojection error using a Gauss-Newton (GN)scheme.  Recall that in GN we start with some initial estimated value $x_{o}$ and iteratively refine the estimate using $x_{1}$= $∆x+x_0$, where $∆x$ is obtained by solving the normal equations $J^{T}J∆x$= -$J^{T}e$, until convergence.The main steps in this scheme are computing the corresponding Jacobians and updating the estimates correctly.  For our problem,  use a 12×1 vector parameterization for $T_{k}$(the top 3×4submatrix).  Run the optimization for different choices of initialization and report your observations. </li>\n",
    "</ol>"
   ]
  },
  {
   "cell_type": "code",
   "execution_count": 15,
   "metadata": {},
   "outputs": [
    {
     "name": "stdout",
     "output_type": "stream",
     "text": [
      "(703447, 4)\n"
     ]
    }
   ],
   "source": [
    "pcd_pts = np.asarray(output.points)\n",
    "points_h=np.hstack((pcd_pts,np.ones((pcd_pts.shape[0],1))))\n",
    "points_h = points_h[0::10,:]\n",
    "colors = output.colors\n",
    "print (points_h.shape)"
   ]
  },
  {
   "cell_type": "code",
   "execution_count": 16,
   "metadata": {},
   "outputs": [],
   "source": [
    "T_gt = np.eye(4,4)\n",
    "T_gt[:3,:4] = poses[0]\n",
    "T_gt = np.linalg.inv(T_gt)\n",
    "P_gt = K@ T_gt[:3,:4]\n",
    "img_h = (P_gt@ points_h.T).T"
   ]
  },
  {
   "cell_type": "code",
   "execution_count": 17,
   "metadata": {},
   "outputs": [],
   "source": [
    "def DLT(x,X):\n",
    "    x[:,0] = x[:,0]/x[:,2]\n",
    "    x[:,1] = x[:,1]/x[:,2]\n",
    "    L = len(X);\n",
    "    zeros = np.zeros((L,4))\n",
    "    A = (np.vstack((x[:,0]*X[:,0],np.vstack((x[:,0]*X[:,1],np.vstack((x[:,0]*X[:,2],x[:,0]*X[:,3]))))))).T\n",
    "    B = (np.vstack((x[:,1]*X[:,0],np.vstack((x[:,1]*X[:,1],np.vstack((x[:,1]*X[:,2],x[:,1]*X[:,3]))))))).T\n",
    "    Ax = np.hstack((-X,np.hstack((zeros,A))))\n",
    "    Ay = np.hstack((zeros,np.hstack((-X,B))))    \n",
    "    M = np.vstack((Ax,Ay))\n",
    "    U,D,VT = np.linalg.svd(M);\n",
    "    P = np.array(VT[-1]).reshape(3,4);\n",
    "    P = P/P[-1,-1]\n",
    "    return P\n",
    "\n",
    "\n",
    "def Jacobian(x,X):\n",
    "    L = len(X)\n",
    "    scl = x[:,2]\n",
    "    X[:,0] = X[:,0]/scl\n",
    "    X[:,1] = X[:,1]/scl\n",
    "    X[:,2] = X[:,2]/scl\n",
    "    X[:,3] = X[:,3]/scl\n",
    "    x[:,0] = x[:,0]/scl\n",
    "    x[:,1] = x[:,1]/scl\n",
    "    zeros = np.zeros((L,4))\n",
    "    A = (np.vstack((x[:,0]*X[:,0],np.vstack((x[:,0]*X[:,1],np.vstack((x[:,0]*X[:,2],x[:,0]*X[:,3]))))))).T\n",
    "    B = (np.vstack((x[:,1]*X[:,0],np.vstack((x[:,1]*X[:,1],np.vstack((x[:,1]*X[:,2],x[:,1]*X[:,3]))))))).T\n",
    "    J_x = np.hstack((-X,np.hstack((zeros,A))))\n",
    "    J_y = np.hstack((zeros,np.hstack((-X,B))))\n",
    "    J = np.vstack((J_x,J_y))\n",
    "    return J\n",
    "\n",
    "def GN(P,x_gt,X,N,tol): \n",
    "    Cost = np.zeros(N)\n",
    "    for i in range(N):\n",
    "        x = (P@ X.T).T\n",
    "        A = x_gt[:,0]/x_gt[:,2] - x[:,0]/x[:,2]\n",
    "        B = x_gt[:,1]/x_gt[:,2] - x[:,1]/x[:,2]\n",
    "        res = (np.hstack((A,B))).reshape(-1,1)\n",
    "        Cost[i] = (res.T@res/2/len(X)).item(0)\n",
    "        if (i%5==4 or i==0):\n",
    "            print(\"Cost at iter \",i+1,\"=\",Cost[i])\n",
    "        J = Jacobian(x,X)\n",
    "        H = J.T@J\n",
    "        update = np.linalg.inv(H)@J.T@res;\n",
    "        P = (P.reshape(12,1) - update).reshape(3,4);\n",
    "        if(np.linalg.norm(update)<tol):\n",
    "            print(\"GN converged at iter \",i+1)\n",
    "            break\n",
    "    return P, Cost, i"
   ]
  },
  {
   "cell_type": "code",
   "execution_count": 18,
   "metadata": {},
   "outputs": [
    {
     "name": "stdout",
     "output_type": "stream",
     "text": [
      "P_GT = \n",
      "[[-8.90929517e+02  5.38387637e+01 -2.56109933e+02 -1.53083396e+05]\n",
      " [-3.68165080e+01  7.13415332e+02 -1.52284250e+02  2.00006057e+01]\n",
      " [-4.11338164e-01  4.10740947e-02 -9.10556891e-01 -2.77880277e+01]]\n"
     ]
    }
   ],
   "source": [
    "P_init = DLT(img_h[:10,:],points_h[:10,:])\n",
    "print(\"P_GT = \")\n",
    "print(P_gt)"
   ]
  },
  {
   "cell_type": "code",
   "execution_count": 19,
   "metadata": {},
   "outputs": [
    {
     "name": "stdout",
     "output_type": "stream",
     "text": [
      "\n",
      "Initialisation for P = \n",
      "[[ 3.20616341e+01 -1.93747852e+00  9.21655800e+00  5.50896991e+03]\n",
      " [ 1.32490589e+00 -2.56734829e+01  5.48021064e+00 -7.19790961e-01]\n",
      " [ 1.48027138e-02 -1.47812755e-03  3.27679579e-02  1.00000000e+00]]\n",
      "[[-8.90929578e+02  5.38387069e+01 -2.56109969e+02 -1.53083409e+05]\n",
      " [-3.68165217e+01  7.13415455e+02 -1.52284245e+02  2.00015712e+01]\n",
      " [-4.11338221e-01  4.10742494e-02 -9.10556924e-01 -2.77880277e+01]]\n"
     ]
    }
   ],
   "source": [
    "print(\"\\nInitialisation for P = \")\n",
    "print(P_init)\n",
    "print(P_gt[-1,-1]*P_init)"
   ]
  },
  {
   "cell_type": "code",
   "execution_count": 20,
   "metadata": {},
   "outputs": [
    {
     "name": "stdout",
     "output_type": "stream",
     "text": [
      "\n",
      "T_GT = \n",
      "[[-9.09854768e-01  4.11782636e-02  4.12878417e-01 -1.92843773e+02]\n",
      " [ 5.44537786e-02  9.98307203e-01  2.04332712e-02  7.22435448e+00]\n",
      " [-4.11338164e-01  4.10740947e-02 -9.10556891e-01 -2.77880277e+01]]\n",
      "Cost at iter  1 = 22808567747.730625\n",
      "Cost at iter  5 = 6.268515157981798\n",
      "Cost at iter  10 = 1.185903608514679\n",
      "GN converged at iter  11\n",
      "\n",
      "Final MSE =  1.1859035734099304\n",
      "\n",
      "iterations to converge =  11\n",
      "\n",
      "P_Output = \n",
      "[[-8.90928616e+02  5.38386711e+01 -2.56107841e+02 -1.53083266e+05]\n",
      " [-3.68143537e+01  7.13415111e+02 -1.52279299e+02  2.02730635e+01]\n",
      " [-4.11338164e-01  4.10740947e-02 -9.10556891e-01 -2.77880277e+01]]\n",
      "\n",
      "T_Output = \n",
      "[[-9.09853495e-01  4.11781325e-02  4.12881377e-01 -1.92843589e+02]\n",
      " [ 5.44568253e-02  9.98306891e-01  2.04402728e-02  7.22473981e+00]\n",
      " [-4.11338164e-01  4.10740947e-02 -9.10556891e-01 -2.77880277e+01]]\n"
     ]
    },
    {
     "data": {
      "text/plain": [
       "Text(0, 0.5, 'Cost (in terms of MSE)')"
      ]
     },
     "execution_count": 20,
     "metadata": {},
     "output_type": "execute_result"
    },
    {
     "data": {
      "image/png": "[encoded data removed]",
      "text/plain": [
       "<Figure size 1152x504 with 1 Axes>"
      ]
     },
     "metadata": {
      "needs_background": "light"
     },
     "output_type": "display_data"
    }
   ],
   "source": [
    "print(\"\\nT_GT = \")\n",
    "print(np.linalg.inv(K)@ P_gt)\n",
    "\n",
    "P_op, Cost, it_conv = GN(P_init,img_h,points_h,1000,1e-4)\n",
    "P_op = P_gt[-1,-1]*P_op/P_op[-1,-1] \n",
    "\n",
    "print(\"\\nFinal MSE = \",Cost[it_conv])\n",
    "print(\"\\niterations to converge = \",it_conv+1)\n",
    "print(\"\\nP_Output = \")\n",
    "print(P_op)\n",
    "print(\"\\nT_Output = \")\n",
    "print(np.linalg.inv(K)@ P_op)\n",
    "\n",
    "plt.figure(figsize=(16,7))\n",
    "plt.plot(range(it_conv+1), Cost[0:it_conv+1])\n",
    "plt.title('Cost (in terms of MSE) vs Number of Iterations')\n",
    "plt.xlabel('Number of Iterations')\n",
    "plt.ylabel('Cost (in terms of MSE)')"
   ]
  },
  {
   "cell_type": "code",
   "execution_count": 21,
   "metadata": {},
   "outputs": [
    {
     "data": {
      "image/png": "[encoded data removed]",
      "text/plain": [
       "<Figure size 432x288 with 1 Axes>"
      ]
     },
     "metadata": {
      "needs_background": "light"
     },
     "output_type": "display_data"
    }
   ],
   "source": [
    "plt.imshow(disparity)\n",
    "plt.show()"
   ]
  },
  {
   "cell_type": "markdown",
   "metadata": {},
   "source": [
    "# Project 2 - Part B:\n",
    "\n",
    "## 1. SfM pipeline (`6 mark`)\n",
    "\n",
    "To get the context of below questions, take a look at the code above: The same questions have been asked at different places above as comments in the code.\n",
    "\n",
    "1. `0.5 mark` **Basics** - How do we know this (`camera_ind`) information in practical setting? In other words, how do we know observations in `points_2d` belong to which camera. Explain. \n",
    "    - Ans-1 - Basics:\n",
    "        - In practical settings, BA is the backend for SfM. On the frontend side, we have SIFT/SURF or ORB to find corresponding points in two images. Next 8 point algorithm estimates the Fundamental Matrix from which we can get the Essential Matrix and decompose them into R,t and K. Now we can triangulate points back to the world to 3D points. We know that images of different views are taken at different poses. Using this information, we can find out the pose from which the concerned image is taken as the output after SIFT/ORB, and hence find out which camera it corresponds to using camera_ind for each point in the image.\n",
    "         \n",
    "        \n",
    "2. `0.5 mark` **Basics** - How do we know this (`point_ind`) information in practical setting?  In other words, how do we know observations in `points_2d` belong to which 3D point. Explain.\n",
    "    - Ans-2 - Basics:\n",
    "        - In practical settings, we know that images in different views are taken at different poses. Using this information, we have SIFT/SURF or ORB to find corresponding points between two images. Next 8 point algorithm estimates the Fundamental Matrix from which we can get the Essential Matrix and decompose them into R,t and K. Now we can triangulate or backproject points to the world to obtain 3D points.  Because of this, we now get our 2D-3D correspondences.\n",
    "    \n",
    "       \n",
    "        \n",
    "3. `0.5 mark` **Transformations** - `project()` function: In the `project()` function, would it make any difference if I do translate first, then rotate? Why/why not?\n",
    "    - Ans-3 - Transformations:\n",
    "        - Yes, there may be a difference. Translation before rotation implies that we're moving to a different origin first and rotating about that origin. Translating after rotating is moving the rotation center as well. \n",
    "        If the translation vector itself lies in the camera frame itself, it is necessary that the point be first rotated to the camera frame before it may be added to the translation vector since otherwise the translation vector and the point would lie in different frames.\n",
    "        \n",
    "        \n",
    "4. `0.5 mark` **Jacobian** - `bundle_adjustment_sparsity()` function: m above is not \"M*N\" (*2) unlike our lecture notes. Why is that so?\n",
    "    - Ans-4 - Jacobian:\n",
    "    We know that each row of the Jacobian corresponds to a residual, we have as many rows as the no. of residuals. \n",
    "        - In our lecture notes, we used M for the number of images and N for the number of points in each image and we had MN 2D points, each giving 2 coordinates, so 2MN residuals for rows of the Jacobian. Here, since m contains the info about all the observations made together (all 2D points), i.e., `camera_indices.size` 2D points we have a different size for it. \n",
    "        \n",
    " \n",
    " \n",
    "5. `2 mark` **Jacobian & Parameters** - `bundle_adjustment_sparsity()` function: \n",
    "    1.  Why are we doing `n_cameras * 9` here instead of `n_cameras * 12`? Recollect: Every individual motion Jacobian was (1*)12 in our lecture notes. \n",
    "        - Ans 5.1 - Jacobian & Parameters:\n",
    "        \n",
    "            - In class, we saw that the projection matrix is dependent on 12 parameters (since 3x4 matrix). In the above implementation, instead of having to use the elements of the projection matrix, we are using 3 translational parameters, 3 rotational parameters represented in `axis-angle form`, and 3 parameters for camera intrinsics, namely the focal length and 2 distortion parameters, to give a total of 9 parameters, and hence we are using `n_cameras * 9`.\n",
    "                    \n",
    "    2. Ignoring the scale parameters, what was the number of unknown parameters in our lecture notes in terms of `n_cameras` and `n_points`? What is it here in the code? Is it different? If so, what is and why? [Link of notes](https://www.notion.so/Stereo-Structure-from-Motion-9fdd81e4194f4803ac9ba7552df56470).\n",
    "        - Ans 5.2 - Jacobian & Parameters:\n",
    "            - In our lectures, number of unknown params was `(n_cameras * 12  + n_points * 3)`, where `n_points = (n_images x n_points_per_image)/n_times_every_point_is_seen)`\n",
    "            - In the current implementation though, we are already given n_cameras and n_points, and the number of parameters required is also 9, so the total number of unknowns comes to `(n_cameras * 9 + n_points * 3)`\n",
    "\n",
    "\n",
    "6. `2 mark` **Sparsity, Residual Vector & Jacobian** - `bundle_adjustment_sparsity()` function: Explain what you understand from above 6 lines of code by coding a simple toy example yourself to illustrate how it is different from what you've learnt in class. ([Coding toy example + elaborating in words]- both are compulsory.)\n",
    "    - Ans 6 - Sparsity, Residual Vector & Jacobian: \n",
    "    In our Jacobian matrix, every row corresponds to a residual, every column is a parameter being optimized. There are `9* No of cameras` + `3* No. of world_pts` params, and hence columns. Each 2D point has 2 coordinates, (x and y) so there are twice as many residuals as no. of observations. For N points observed in M images, we had MN rows for the examples done in class, but here, we have `camera_ind.size` observations and twice as many rows. Also , in class the residuals were ordered first in the order of points, and then according to images, but here they appear in order particular order. \n",
    "    \n",
    "    **Explanation of code**:\n",
    "    The given code snippet marks the non-0 elements of the Jacobian, which allows Scipy solver to take advantage of the sparsity structure. `Numpy`'s integer array indexing sets to 1 all 9 cols for params of the corresponding camera for 2 rows of every observation. The next for loop sets 3 cols corresponding to the world point in the ith observation to 1 for all i. Other elements remain 0 and form a sparse structure. \n",
    "        \n"
   ]
  },
  {
   "cell_type": "markdown",
   "metadata": {},
   "source": [
    "## 2. Initializing R,t and 3D points for SfM given 2 images (`4 mark`)\n",
    "\n",
    "Using OpenCV functions, mention how you would initialize R,t (poses) and 3D points for SfM given 2 images and K matrix. You don't need to implement it, just mention function names with input/output arguments clearly and briefly explain what they do (You don't need to give detailed answers). A sample answer could be as follows:\n",
    "\n",
    "**Ans 2:**\n",
    "\n",
    "1. First we need to do feature matching. For this, we create an instance of ORB detector class of openCV using `cv2.ORB_create()` and use its `detectAndCompute()` function as a detector to extract ORB features (keypoints and descriptors) on both images. We pass None to show that we are not passing predefines features.\n",
    "    - `orb = cv2.ORB_create()`\n",
    "    - `kp1, des1 = orb.detectAndCompute(img1,None)`\n",
    "    - `kp2, des2 = orb.detectAndCompute(img2,None)`\n",
    "    \n",
    "   So, now we have keypoints and descriptors corresponding to img1 and img2. \n",
    "2. Now, we need to match keypoints from the two images. For this, create a Brute-Force Matcher `bf = cv2.BFMatcher()`, and using the ORB descriptors, perform KNN matching using the knnMatch() function\n",
    "    - `bf = cv2.BFMatcher()`\n",
    "    - `matches = bf.knnMatch(des1,des2,k=2)`\n",
    "   Alternately, we can use \n",
    "   \n",
    "       `matches = bf.match(des1,des2)`. \n",
    "   \n",
    "   Now we have matched features from both images.\n",
    "    \n",
    "3. Using these matches, we can find the fundamental matrix using the `cv2.finfFundamentalMat()` function.\n",
    "    - Using other algorithms is also a viable option. For example, the normalized 8-pt algo.\n",
    "\n",
    "4. After finding the fundamental matrix $F$, since we know $K$, we can find the essential matrix as $E = K^TFK$.\n",
    "\n",
    "Alternately, we can combine the above 2 steps into:\n",
    "\n",
    "`E = cv2.findEssentialMat(p1,p2,K)` to directly get the Essential Matrix.\n",
    "\n",
    "5. From the above essential matrix $E$, we can decompose it into rotation and translation components $R$ and $t$ using \n",
    "`output = cv2.recoverPose(E,p0,p1,K)` which takes $E$, the matches(p1,p2) and calibration matrix $K$ as input and returns $R$ and $t$ as two of the many outputs. \n",
    "\n",
    "$R$ comes from output[1] and $t$ from output[2].\n",
    "\n",
    "6. Using this information so far, we can use the 2D-2D correspondences (matches) and the above vectors and matrices to perform triangulation to get the 3D locations for SfM. This is to be achieved using \n",
    "\n",
    "`points_3d = cv2.triangulatePoints([p1,p2],output)`. This gives the 3D points as output.\n",
    "\n"
   ]
  }
 ],
 "metadata": {
  "kernelspec": {
   "display_name": "Python 3",
   "language": "python",
   "name": "python3"
  },
  "language_info": {
   "codemirror_mode": {
    "name": "ipython",
    "version": 3
   },
   "file_extension": ".py",
   "mimetype": "text/x-python",
   "name": "python",
   "nbconvert_exporter": "python",
   "pygments_lexer": "ipython3",
   "version": "3.7.9"
  }
 },
 "nbformat": 4,
 "nbformat_minor": 4
}
