{
 "cells": [
  {
   "cell_type": "markdown",
   "metadata": {},
   "source": [
    "# Assignment 2.1 - Point Cloud Registration"
   ]
  },
  {
   "cell_type": "markdown",
   "metadata": {},
   "source": [
    "### The task for this part of the Assignment is to register 77 point clouds given the global poses for each of them. You have to rotate and translate each point cloud according to the pose given, append them and finally plot them."
   ]
  },
  {
   "cell_type": "markdown",
   "metadata": {},
   "source": [
    "#### Importing necessary util functions and libraries"
   ]
  },
  {
   "cell_type": "code",
   "execution_count": 1,
   "metadata": {},
   "outputs": [],
   "source": [
    "import sys\n",
    "import numpy as np\n",
    "import open3d as o3d\n",
    "sys.path.insert(1, \"../data\")\n",
    "from utils import readData, readPointCloud"
   ]
  },
  {
   "cell_type": "markdown",
   "metadata": {},
   "source": [
    "#### Reading the pose matrices"
   ]
  },
  {
   "cell_type": "code",
   "execution_count": 2,
   "metadata": {},
   "outputs": [],
   "source": [
    "ground_truth = readData(\"../data/01.txt\")\n",
    "ground_truth = ground_truth[:77][:]"
   ]
  },
  {
   "cell_type": "markdown",
   "metadata": {},
   "source": [
    "#### Converting pose matrices to homogenous transformations"
   ]
  },
  {
   "cell_type": "code",
   "execution_count": 3,
   "metadata": {},
   "outputs": [],
   "source": [
    "def computeTransformation(point_ind):\n",
    "    ground_truth = readData(\"../data/01.txt\")\n",
    "    ground_truth = ground_truth[:77][:]\n",
    "    T = ground_truth[point_ind][:]\n",
    "    T = np.reshape(T, (3,4))\n",
    "    b = np.array([0,0,0,1])\n",
    "    T = np.vstack ((T,b)) \n",
    "    return T"
   ]
  },
  {
   "cell_type": "markdown",
   "metadata": {},
   "source": [
    "#### Transforming points from LIDAR to camera_frame_i,from camera_frame_i to camera_frame_0 and from camera_frame_0 to world frame"
   ]
  },
  {
   "cell_type": "code",
   "execution_count": 4,
   "metadata": {},
   "outputs": [],
   "source": [
    "def computePoseCameraFrame(point_ind):\n",
    "    file = \"../data/01/\" + str(point_ind).zfill(6) + \".bin\"\n",
    "    pcd = readPointCloud(file)\n",
    "#     valid = []\n",
    "#     for j in range(len(pcd)):\n",
    "#         dist = np.linalg.norm(pcd[j][:3])\n",
    "#         if dist <= 50 and dist >= 10:\n",
    "#             valid.append(pcd[j])\n",
    "#     pcd = np.asarray(valid)\n",
    "    npts = pcd.shape[0]\n",
    "    lidar_to_cam = np.array([[0,-1,0,0],[0,0,-1,0],[1,0,0,0],[0,0,0,1]])\n",
    "    pcd = np.hstack((pcd[:,:3],np.ones((npts,1))))\n",
    "    poses = np.dot(np.asarray(pcd),lidar_to_cam.T)\n",
    "    poses = np.dot(poses,computeTransformation(point_ind).T)\n",
    "    c0_w_matrix = np.array([[0,0,1,0],[-1,0,0,0],[0,-1,0,0],[0,0,0,1]])\n",
    "    poses = np.dot(poses,c0_w_matrix.T)\n",
    "    return poses"
   ]
  },
  {
   "cell_type": "markdown",
   "metadata": {},
   "source": [
    "#### Concatenating 77 point clouds and displaying them"
   ]
  },
  {
   "cell_type": "code",
   "execution_count": 5,
   "metadata": {},
   "outputs": [],
   "source": [
    "pcd_net = o3d.geometry.PointCloud()\n",
    "for i in range(77):\n",
    "    poses = computePoseCameraFrame(i)\n",
    "    pcd = o3d.geometry.PointCloud()\n",
    "    pcd.points = o3d.utility.Vector3dVector(poses[:,:3])\n",
    "    pcd_net += pcd\n",
    "downpcd = pcd_net.voxel_down_sample(voxel_size=1)\n",
    "o3d.visualization.draw_geometries([downpcd])"
   ]
  },
  {
   "cell_type": "code",
   "execution_count": null,
   "metadata": {},
   "outputs": [],
   "source": []
  }
 ],
 "metadata": {
  "kernelspec": {
   "display_name": "Python 3",
   "language": "python",
   "name": "python3"
  },
  "language_info": {
   "codemirror_mode": {
    "name": "ipython",
    "version": 3
   },
   "file_extension": ".py",
   "mimetype": "text/x-python",
   "name": "python",
   "nbconvert_exporter": "python",
   "pygments_lexer": "ipython3",
   "version": "3.6.9"
  }
 },
 "nbformat": 4,
 "nbformat_minor": 4
}
